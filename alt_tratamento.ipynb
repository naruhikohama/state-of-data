{
 "cells": [
  {
   "cell_type": "code",
   "execution_count": 2,
   "metadata": {},
   "outputs": [],
   "source": [
    "import pandas as pd\n",
    "import plotly.express as px\n",
    "import plotly.graph_objects as go\n",
    "from plotly.subplots import make_subplots\n",
    "import matplotlib.pyplot as plt\n",
    "import numpy as np\n",
    "\n",
    "# configurando as cores\n",
    "amarelo = '#FFD744'\n",
    "vermelho = '#A80000'\n",
    "azul = '#183154'\n",
    "branco = \"#FFFFFF\"\n",
    "\n",
    "# importando dados do state of data de 2022 (mais atual) e eliminando os duplicados\n",
    "df = pd.read_csv('data/State_of_data_2022.csv')\n",
    "df = df.drop_duplicates()\n",
    "\n",
    "# Renomeando as Colunas para melhor uso\n",
    "\n",
    "df.rename(columns={ # colunas sobre a identidade dos colaboradores de 2022\n",
    "    \"('P0', 'id')\" : \"id\",\n",
    "    \"('P2_a ', 'Qual sua situação atual de trabalho?')\" : \"situacao_atual\",\n",
    "    \"('P2_c ', 'Numero de Funcionarios')\" : 'numero_de_funcionarios',\n",
    "    \"('P2_d ', 'Gestor?')\" : \"gestor\",\n",
    "    \"('P2_h ', 'Faixa salarial')\": \"faixa_salario\",\n",
    "    \"('P2_k ', 'Você está satisfeito na sua empresa atual?')\" : \"satisfeito\",\n",
    "\n",
    "    # Colunas sobre modelo de trabalho remoto de colaboradores de 2022\n",
    "    \"('P2_p ', 'Atualmente qual a sua forma de trabalho?')\" : 'modelo_de_trabalho',\n",
    "    \"('P2_r ', 'Caso sua empresa decida pelo modelo 100% presencial qual será sua atitude?')\" : \"volta_ao_presencial\",\n",
    "\n",
    "\n",
    "    # Coluna sobre querer mudar de emprego\n",
    "    \"('P2_n ', 'Você pretende mudar de emprego nos próximos 6 meses?')\" : \"mudar_de_emprego\",\n",
    "\n",
    "    # Colunas sobre os motivos de insatisfação de colaboradores de 2022\n",
    "    \"('P2_l_1 ', 'Falta de oportunidade de crescimento no emprego atual')\" : \"oportunidade\",\n",
    "    \"('P2_l_2 ', 'Salário atual não corresponde ao mercado')\" : \"salario_mercado\",\n",
    "    \"('P2_l_3 ', 'Não tenho uma boa relação com meu líder/gestor')\" : \"lider\",\n",
    "    \"('P2_l_4 ', 'Gostaria de trabalhar em em outra área de atuação')\" : \"area\",\n",
    "    \"('P2_l_5 ', 'Gostaria de receber mais benefícios')\" : \"beneficios\",\n",
    "    \"('P2_l_6 ', 'O clima de trabalho/ambiente não é bom')\": \"clima\",\n",
    "    \"('P2_l_7 ', 'Falta de maturidade analítica na empresa')\" : 'maturidade',\n",
    "    \"('P3_c_1 ', 'Pensar na visão de longo prazo de dados da empresa e fortalecimento da cultura analítica da companhia.')\" : \"visao\",\n",
    "\n",
    "    # tamnho da equipe\n",
    "    \"('P3_a ', 'Qual o número aproximado de pessoas que atuam com dados na sua empresa hoje?')\" : \"tamanho_equipe\",\n",
    "\n",
    "    # Colunas sobre desafios e funções dos gestores de 2022\n",
    "    \"('P3_c_2 ', 'Organização de treinamentos e iniciativas com o objetivo de aumentar a maturidade analítica das áreas de negócios.')\" : \"treinamento\",\n",
    "    \"('P3_c_3 ', 'Atração, seleção e contratação de talentos para o time de dados.')\" : \"rh\",\n",
    "    \"('P3_c_4 ', 'Decisão sobre contratação de ferramentas e tecnologias relacionadas a dados.')\" : \"ferramentas\",\n",
    "    \"('P3_c_5 ', 'Sou gestor da equipe responsável pela engenharia de dados e por manter o Data Lake da empresa como fonte única dos dados, garantindo a qualidade e confiabilidade da informação.')\" : \"data_lake\",\n",
    "    \"('P3_c_6 ', 'Sou gestor da equipe responsável pela entrega de dados, estudos, relatórios e dashboards para as áreas de negócio da empresa.')\" : \"gestor_equipe\",\n",
    "    \"('P3_c_7 ', 'Sou gestor da equipe responsável por iniciativas e projetos envolvendo Inteligência Artificial e Machine Learning.')\" : \"gestor_ia\",\n",
    "    \"('P3_c_8 ', 'Apesar de ser gestor ainda atuo na parte técnica, construindo soluções/análises/modelos etc.')\": \"parte_tecnica\",\n",
    "    \"('P3_c_9 ', 'Gestão de projetos de dados, cuidando das etapas, equipes envolvidas, atingimento dos objetivos etc.')\": \"gestor_etapa\",\n",
    "    \"('P3_c_10 ', 'Gestão de produtos de dados, cuidando da visão dos produtos, backlog, feedback de usuários etc.')\": \"gestor_produto\",\n",
    "    \"('P3_c_11 ', 'Gestão de pessoas, apoio no desenvolvimento das pessoas, evolução de carreira')\": \"desenvolvimento\",\n",
    "    \"('P3_d ', 'Quais são os 3 maiores desafios que você tem como gestor no atual momento?')\" : \"desafios_gestor\"\n",
    "    },inplace=True)\n",
    "\n",
    "\n",
    "def formatar_df(df, coluna):\n",
    "    \"\"\"\n",
    "    Formata um DataFrame contendo informações de satisfação de acordo com a coluna especificada.\n",
    "\n",
    "    Esta função realiza o seguinte processamento:\n",
    "    1. Remove linhas com valores ausentes na coluna 'satisfeito'.\n",
    "    2. Gera uma lista de valores únicos na coluna especificada.\n",
    "    3. Calcula a contagem de satisfeitos e insatisfeitos para cada valor na coluna especificada.\n",
    "    4. Calcula as porcentagens de satisfeitos e insatisfeitos em relação ao total para cada valor.\n",
    "    \n",
    "    Args:\n",
    "        df (pandas.DataFrame): O DataFrame de entrada contendo os dados de satisfação.\n",
    "        coluna (str): O nome da coluna com os valores para os quais a análise de satisfação será realizada.\n",
    "\n",
    "    Returns:\n",
    "        pandas.DataFrame: Um novo DataFrame formatado com as colunas ['coluna', 'satisfeitos', 'insatisfeitos',\n",
    "                         'total', 'por_centagem_satisfeitos', 'por_centagem_insatisfeitos'].\n",
    "    \"\"\"\n",
    "    df_limpo = df.dropna(subset=['satisfeito'])\n",
    "    lista_valores = list(df_limpo.dropna(subset=[coluna]).drop_duplicates(subset=[coluna])[coluna].values)\n",
    "    lista_satisfacao = []\n",
    "    satisfeitos = df_limpo.query('satisfeito == True').groupby([coluna])['id'].count()\n",
    "    insatisfeitos = df_limpo.query('satisfeito == False').groupby([coluna])['id'].count()\n",
    "    \n",
    "    for valor in lista_valores:\n",
    "        total = satisfeitos.get(valor, 0) + insatisfeitos.get(valor, 0)\n",
    "        lista_satisfacao.append([valor, satisfeitos.get(valor, 0), insatisfeitos.get(valor, 0), total])\n",
    "    \n",
    "    df_final = pd.DataFrame(lista_satisfacao, columns=[coluna, 'satisfeitos', 'insatisfeitos', 'total'])\n",
    "    df_final['por_centagem_satisfeitos'] = (df_final['satisfeitos'] * 100) / df_final['total']\n",
    "    df_final['por_centagem_insatisfeitos'] = (df_final['insatisfeitos'] * 100) / df_final['total']\n",
    "    \n",
    "    return df_final"
   ]
  },
  {
   "cell_type": "code",
   "execution_count": 16,
   "metadata": {},
   "outputs": [
    {
     "data": {
      "application/vnd.plotly.v1+json": {
       "config": {
        "displayModeBar": false,
        "plotlyServerURL": "https://plot.ly"
       },
       "data": [
        {
         "marker": {
          "color": [
           "#FFFFFF",
           "#FFFFFF",
           "#FFFFFF",
           "#FFFFFF",
           "#FFFFFF",
           "#FFFFFF",
           "#FFFFFF",
           "#FFFFFF",
           "#A80000",
           "#FFFFFF",
           "#FFFFFF"
          ],
          "line": {
           "color": "black",
           "width": 1.8
          }
         },
         "orientation": "h",
         "type": "bar",
         "x": [
          175,
          209,
          227,
          271,
          276,
          276,
          288,
          338,
          343,
          415,
          451
         ],
         "y": [
          "Gestor da equipe responsável pela engenharia de dados ",
          "Gestor da equipe de projetos envolvendo IA ",
          "Gestão de produtos de dados ",
          "Ainda atuo na parte Técnica ",
          "Decisão sobre contratação de Ferramentas ",
          "Organização de Treinamentos ",
          "Gestão de projetos de Dados ",
          "Gestor da equipe responsável pela entrega de dados e relatórios ",
          "<b>Atração, Seleção e Contratação de Talentos</b> ",
          "Apoio no Desenvolvimento das Pessoas ",
          "Pensar na visão de longo prazo de dados da empresa "
         ]
        }
       ],
       "layout": {
        "font": {
         "color": "black",
         "family": "Nunito",
         "size": 16
        },
        "height": 400,
        "margin": {
         "pad": 5
        },
        "plot_bgcolor": "white",
        "template": {
         "data": {
          "bar": [
           {
            "error_x": {
             "color": "#2a3f5f"
            },
            "error_y": {
             "color": "#2a3f5f"
            },
            "marker": {
             "line": {
              "color": "#E5ECF6",
              "width": 0.5
             },
             "pattern": {
              "fillmode": "overlay",
              "size": 10,
              "solidity": 0.2
             }
            },
            "type": "bar"
           }
          ],
          "barpolar": [
           {
            "marker": {
             "line": {
              "color": "#E5ECF6",
              "width": 0.5
             },
             "pattern": {
              "fillmode": "overlay",
              "size": 10,
              "solidity": 0.2
             }
            },
            "type": "barpolar"
           }
          ],
          "carpet": [
           {
            "aaxis": {
             "endlinecolor": "#2a3f5f",
             "gridcolor": "white",
             "linecolor": "white",
             "minorgridcolor": "white",
             "startlinecolor": "#2a3f5f"
            },
            "baxis": {
             "endlinecolor": "#2a3f5f",
             "gridcolor": "white",
             "linecolor": "white",
             "minorgridcolor": "white",
             "startlinecolor": "#2a3f5f"
            },
            "type": "carpet"
           }
          ],
          "choropleth": [
           {
            "colorbar": {
             "outlinewidth": 0,
             "ticks": ""
            },
            "type": "choropleth"
           }
          ],
          "contour": [
           {
            "colorbar": {
             "outlinewidth": 0,
             "ticks": ""
            },
            "colorscale": [
             [
              0,
              "#0d0887"
             ],
             [
              0.1111111111111111,
              "#46039f"
             ],
             [
              0.2222222222222222,
              "#7201a8"
             ],
             [
              0.3333333333333333,
              "#9c179e"
             ],
             [
              0.4444444444444444,
              "#bd3786"
             ],
             [
              0.5555555555555556,
              "#d8576b"
             ],
             [
              0.6666666666666666,
              "#ed7953"
             ],
             [
              0.7777777777777778,
              "#fb9f3a"
             ],
             [
              0.8888888888888888,
              "#fdca26"
             ],
             [
              1,
              "#f0f921"
             ]
            ],
            "type": "contour"
           }
          ],
          "contourcarpet": [
           {
            "colorbar": {
             "outlinewidth": 0,
             "ticks": ""
            },
            "type": "contourcarpet"
           }
          ],
          "heatmap": [
           {
            "colorbar": {
             "outlinewidth": 0,
             "ticks": ""
            },
            "colorscale": [
             [
              0,
              "#0d0887"
             ],
             [
              0.1111111111111111,
              "#46039f"
             ],
             [
              0.2222222222222222,
              "#7201a8"
             ],
             [
              0.3333333333333333,
              "#9c179e"
             ],
             [
              0.4444444444444444,
              "#bd3786"
             ],
             [
              0.5555555555555556,
              "#d8576b"
             ],
             [
              0.6666666666666666,
              "#ed7953"
             ],
             [
              0.7777777777777778,
              "#fb9f3a"
             ],
             [
              0.8888888888888888,
              "#fdca26"
             ],
             [
              1,
              "#f0f921"
             ]
            ],
            "type": "heatmap"
           }
          ],
          "heatmapgl": [
           {
            "colorbar": {
             "outlinewidth": 0,
             "ticks": ""
            },
            "colorscale": [
             [
              0,
              "#0d0887"
             ],
             [
              0.1111111111111111,
              "#46039f"
             ],
             [
              0.2222222222222222,
              "#7201a8"
             ],
             [
              0.3333333333333333,
              "#9c179e"
             ],
             [
              0.4444444444444444,
              "#bd3786"
             ],
             [
              0.5555555555555556,
              "#d8576b"
             ],
             [
              0.6666666666666666,
              "#ed7953"
             ],
             [
              0.7777777777777778,
              "#fb9f3a"
             ],
             [
              0.8888888888888888,
              "#fdca26"
             ],
             [
              1,
              "#f0f921"
             ]
            ],
            "type": "heatmapgl"
           }
          ],
          "histogram": [
           {
            "marker": {
             "pattern": {
              "fillmode": "overlay",
              "size": 10,
              "solidity": 0.2
             }
            },
            "type": "histogram"
           }
          ],
          "histogram2d": [
           {
            "colorbar": {
             "outlinewidth": 0,
             "ticks": ""
            },
            "colorscale": [
             [
              0,
              "#0d0887"
             ],
             [
              0.1111111111111111,
              "#46039f"
             ],
             [
              0.2222222222222222,
              "#7201a8"
             ],
             [
              0.3333333333333333,
              "#9c179e"
             ],
             [
              0.4444444444444444,
              "#bd3786"
             ],
             [
              0.5555555555555556,
              "#d8576b"
             ],
             [
              0.6666666666666666,
              "#ed7953"
             ],
             [
              0.7777777777777778,
              "#fb9f3a"
             ],
             [
              0.8888888888888888,
              "#fdca26"
             ],
             [
              1,
              "#f0f921"
             ]
            ],
            "type": "histogram2d"
           }
          ],
          "histogram2dcontour": [
           {
            "colorbar": {
             "outlinewidth": 0,
             "ticks": ""
            },
            "colorscale": [
             [
              0,
              "#0d0887"
             ],
             [
              0.1111111111111111,
              "#46039f"
             ],
             [
              0.2222222222222222,
              "#7201a8"
             ],
             [
              0.3333333333333333,
              "#9c179e"
             ],
             [
              0.4444444444444444,
              "#bd3786"
             ],
             [
              0.5555555555555556,
              "#d8576b"
             ],
             [
              0.6666666666666666,
              "#ed7953"
             ],
             [
              0.7777777777777778,
              "#fb9f3a"
             ],
             [
              0.8888888888888888,
              "#fdca26"
             ],
             [
              1,
              "#f0f921"
             ]
            ],
            "type": "histogram2dcontour"
           }
          ],
          "mesh3d": [
           {
            "colorbar": {
             "outlinewidth": 0,
             "ticks": ""
            },
            "type": "mesh3d"
           }
          ],
          "parcoords": [
           {
            "line": {
             "colorbar": {
              "outlinewidth": 0,
              "ticks": ""
             }
            },
            "type": "parcoords"
           }
          ],
          "pie": [
           {
            "automargin": true,
            "type": "pie"
           }
          ],
          "scatter": [
           {
            "fillpattern": {
             "fillmode": "overlay",
             "size": 10,
             "solidity": 0.2
            },
            "type": "scatter"
           }
          ],
          "scatter3d": [
           {
            "line": {
             "colorbar": {
              "outlinewidth": 0,
              "ticks": ""
             }
            },
            "marker": {
             "colorbar": {
              "outlinewidth": 0,
              "ticks": ""
             }
            },
            "type": "scatter3d"
           }
          ],
          "scattercarpet": [
           {
            "marker": {
             "colorbar": {
              "outlinewidth": 0,
              "ticks": ""
             }
            },
            "type": "scattercarpet"
           }
          ],
          "scattergeo": [
           {
            "marker": {
             "colorbar": {
              "outlinewidth": 0,
              "ticks": ""
             }
            },
            "type": "scattergeo"
           }
          ],
          "scattergl": [
           {
            "marker": {
             "colorbar": {
              "outlinewidth": 0,
              "ticks": ""
             }
            },
            "type": "scattergl"
           }
          ],
          "scattermapbox": [
           {
            "marker": {
             "colorbar": {
              "outlinewidth": 0,
              "ticks": ""
             }
            },
            "type": "scattermapbox"
           }
          ],
          "scatterpolar": [
           {
            "marker": {
             "colorbar": {
              "outlinewidth": 0,
              "ticks": ""
             }
            },
            "type": "scatterpolar"
           }
          ],
          "scatterpolargl": [
           {
            "marker": {
             "colorbar": {
              "outlinewidth": 0,
              "ticks": ""
             }
            },
            "type": "scatterpolargl"
           }
          ],
          "scatterternary": [
           {
            "marker": {
             "colorbar": {
              "outlinewidth": 0,
              "ticks": ""
             }
            },
            "type": "scatterternary"
           }
          ],
          "surface": [
           {
            "colorbar": {
             "outlinewidth": 0,
             "ticks": ""
            },
            "colorscale": [
             [
              0,
              "#0d0887"
             ],
             [
              0.1111111111111111,
              "#46039f"
             ],
             [
              0.2222222222222222,
              "#7201a8"
             ],
             [
              0.3333333333333333,
              "#9c179e"
             ],
             [
              0.4444444444444444,
              "#bd3786"
             ],
             [
              0.5555555555555556,
              "#d8576b"
             ],
             [
              0.6666666666666666,
              "#ed7953"
             ],
             [
              0.7777777777777778,
              "#fb9f3a"
             ],
             [
              0.8888888888888888,
              "#fdca26"
             ],
             [
              1,
              "#f0f921"
             ]
            ],
            "type": "surface"
           }
          ],
          "table": [
           {
            "cells": {
             "fill": {
              "color": "#EBF0F8"
             },
             "line": {
              "color": "white"
             }
            },
            "header": {
             "fill": {
              "color": "#C8D4E3"
             },
             "line": {
              "color": "white"
             }
            },
            "type": "table"
           }
          ]
         },
         "layout": {
          "annotationdefaults": {
           "arrowcolor": "#2a3f5f",
           "arrowhead": 0,
           "arrowwidth": 1
          },
          "autotypenumbers": "strict",
          "coloraxis": {
           "colorbar": {
            "outlinewidth": 0,
            "ticks": ""
           }
          },
          "colorscale": {
           "diverging": [
            [
             0,
             "#8e0152"
            ],
            [
             0.1,
             "#c51b7d"
            ],
            [
             0.2,
             "#de77ae"
            ],
            [
             0.3,
             "#f1b6da"
            ],
            [
             0.4,
             "#fde0ef"
            ],
            [
             0.5,
             "#f7f7f7"
            ],
            [
             0.6,
             "#e6f5d0"
            ],
            [
             0.7,
             "#b8e186"
            ],
            [
             0.8,
             "#7fbc41"
            ],
            [
             0.9,
             "#4d9221"
            ],
            [
             1,
             "#276419"
            ]
           ],
           "sequential": [
            [
             0,
             "#0d0887"
            ],
            [
             0.1111111111111111,
             "#46039f"
            ],
            [
             0.2222222222222222,
             "#7201a8"
            ],
            [
             0.3333333333333333,
             "#9c179e"
            ],
            [
             0.4444444444444444,
             "#bd3786"
            ],
            [
             0.5555555555555556,
             "#d8576b"
            ],
            [
             0.6666666666666666,
             "#ed7953"
            ],
            [
             0.7777777777777778,
             "#fb9f3a"
            ],
            [
             0.8888888888888888,
             "#fdca26"
            ],
            [
             1,
             "#f0f921"
            ]
           ],
           "sequentialminus": [
            [
             0,
             "#0d0887"
            ],
            [
             0.1111111111111111,
             "#46039f"
            ],
            [
             0.2222222222222222,
             "#7201a8"
            ],
            [
             0.3333333333333333,
             "#9c179e"
            ],
            [
             0.4444444444444444,
             "#bd3786"
            ],
            [
             0.5555555555555556,
             "#d8576b"
            ],
            [
             0.6666666666666666,
             "#ed7953"
            ],
            [
             0.7777777777777778,
             "#fb9f3a"
            ],
            [
             0.8888888888888888,
             "#fdca26"
            ],
            [
             1,
             "#f0f921"
            ]
           ]
          },
          "colorway": [
           "#636efa",
           "#EF553B",
           "#00cc96",
           "#ab63fa",
           "#FFA15A",
           "#19d3f3",
           "#FF6692",
           "#B6E880",
           "#FF97FF",
           "#FECB52"
          ],
          "font": {
           "color": "#2a3f5f"
          },
          "geo": {
           "bgcolor": "white",
           "lakecolor": "white",
           "landcolor": "#E5ECF6",
           "showlakes": true,
           "showland": true,
           "subunitcolor": "white"
          },
          "hoverlabel": {
           "align": "left"
          },
          "hovermode": "closest",
          "mapbox": {
           "style": "light"
          },
          "paper_bgcolor": "white",
          "plot_bgcolor": "#E5ECF6",
          "polar": {
           "angularaxis": {
            "gridcolor": "white",
            "linecolor": "white",
            "ticks": ""
           },
           "bgcolor": "#E5ECF6",
           "radialaxis": {
            "gridcolor": "white",
            "linecolor": "white",
            "ticks": ""
           }
          },
          "scene": {
           "xaxis": {
            "backgroundcolor": "#E5ECF6",
            "gridcolor": "white",
            "gridwidth": 2,
            "linecolor": "white",
            "showbackground": true,
            "ticks": "",
            "zerolinecolor": "white"
           },
           "yaxis": {
            "backgroundcolor": "#E5ECF6",
            "gridcolor": "white",
            "gridwidth": 2,
            "linecolor": "white",
            "showbackground": true,
            "ticks": "",
            "zerolinecolor": "white"
           },
           "zaxis": {
            "backgroundcolor": "#E5ECF6",
            "gridcolor": "white",
            "gridwidth": 2,
            "linecolor": "white",
            "showbackground": true,
            "ticks": "",
            "zerolinecolor": "white"
           }
          },
          "shapedefaults": {
           "line": {
            "color": "#2a3f5f"
           }
          },
          "ternary": {
           "aaxis": {
            "gridcolor": "white",
            "linecolor": "white",
            "ticks": ""
           },
           "baxis": {
            "gridcolor": "white",
            "linecolor": "white",
            "ticks": ""
           },
           "bgcolor": "#E5ECF6",
           "caxis": {
            "gridcolor": "white",
            "linecolor": "white",
            "ticks": ""
           }
          },
          "title": {
           "x": 0.05
          },
          "xaxis": {
           "automargin": true,
           "gridcolor": "white",
           "linecolor": "white",
           "ticks": "",
           "title": {
            "standoff": 15
           },
           "zerolinecolor": "white",
           "zerolinewidth": 2
          },
          "yaxis": {
           "automargin": true,
           "gridcolor": "white",
           "linecolor": "white",
           "ticks": "",
           "title": {
            "standoff": 15
           },
           "zerolinecolor": "white",
           "zerolinewidth": 2
          }
         }
        },
        "title": {
         "font": {
          "color": "black",
          "family": "Nunito",
          "size": 26
         },
         "text": "<b>Principais Funções dos Gestores em 2022</b>",
         "x": 0.5,
         "y": 0.95
        },
        "width": 830
       }
      }
     },
     "metadata": {},
     "output_type": "display_data"
    }
   ],
   "source": [
    "# selecionando as colunas que serão usadas\n",
    "df_gestor = df[[\"id\", \"gestor\",\"visao\", \"treinamento\", \"rh\", \"ferramentas\", \"data_lake\", \"gestor_equipe\", \"gestor_ia\", \"parte_tecnica\", \"gestor_etapa\",  \"gestor_produto\", \"desenvolvimento\"]]\n",
    "\n",
    "# Filtrando por apenas gestores e excluindo os arquivos nulos\n",
    "df_gestor = df_gestor[df_gestor['gestor'] == True]\n",
    "df_gestor = df_gestor.dropna()\n",
    "\n",
    "# Configuração das cores e das hachuras\n",
    "colors = [branco] * 11\n",
    "colors[8] = vermelho\n",
    "hachura = ['/'] * 11\n",
    "hachura[8] = ''\n",
    "\n",
    "# Criando Gráfico de Barras\n",
    "fig = go.Figure([go.Bar(\n",
    "\n",
    "    # informações do eixo y\n",
    "    y=['Gestor da equipe responsável pela engenharia de dados ', 'Gestor da equipe de projetos envolvendo IA ', 'Gestão de produtos de dados ',\n",
    "        'Ainda atuo na parte Técnica ', 'Decisão sobre contratação de Ferramentas ', 'Organização de Treinamentos ',\n",
    "        'Gestão de projetos de Dados ', 'Gestor da equipe responsável pela entrega de dados e relatórios ',\n",
    "        '<b>Atração, Seleção e Contratação de Talentos</b> ',\n",
    "        'Apoio no Desenvolvimento das Pessoas ', 'Pensar na visão de longo prazo de dados da empresa '],\n",
    "\n",
    "    # informações do eixo x\n",
    "    x=[df_gestor['data_lake'].sum(), df_gestor['gestor_ia'].sum(), df_gestor['gestor_produto'].sum(),\n",
    "        df_gestor['parte_tecnica'].sum(), df_gestor['ferramentas'].sum(), df_gestor['treinamento'].sum(),\n",
    "        df_gestor['gestor_etapa'].sum(), df_gestor['gestor_equipe'].sum(), df_gestor['rh'].sum(),\n",
    "        df_gestor['desenvolvimento'].sum(), df_gestor['visao'].sum()],\n",
    "\n",
    "    # hachura, cores, borda e orientação do gráfico\n",
    "    # marker_pattern_shape=hachura,\n",
    "    marker_color=colors,\n",
    "    marker_line=dict(width=1.8, color='black'),\n",
    "    orientation='h'\n",
    "    )])\n",
    "\n",
    "# informações de tamanho e fonte\n",
    "fig.update_layout(\n",
    "    title={\n",
    "    'text': \"<b>Principais Funções dos Gestores em 2022</b>\",\n",
    "    'font' : dict(size=26, color='black', family='Nunito'),\n",
    "    'y':0.95,\n",
    "    'x':0.5},\n",
    "    height=400, width=830,\n",
    "    font_family='Nunito',\n",
    "    font_color='black',\n",
    "    font_size=16,\n",
    "    plot_bgcolor='white',\n",
    "    margin = {'pad': 5}\n",
    "    \n",
    ")\n",
    "\n",
    "fig.show(config = {'displayModeBar': False})"
   ]
  }
 ],
 "metadata": {
  "kernelspec": {
   "display_name": "Python 3",
   "language": "python",
   "name": "python3"
  },
  "language_info": {
   "codemirror_mode": {
    "name": "ipython",
    "version": 3
   },
   "file_extension": ".py",
   "mimetype": "text/x-python",
   "name": "python",
   "nbconvert_exporter": "python",
   "pygments_lexer": "ipython3",
   "version": "3.10.4"
  },
  "orig_nbformat": 4
 },
 "nbformat": 4,
 "nbformat_minor": 2
}
